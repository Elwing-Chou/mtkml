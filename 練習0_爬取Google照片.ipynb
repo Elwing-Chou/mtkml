{
 "cells": [
  {
   "cell_type": "code",
   "execution_count": null,
   "metadata": {},
   "outputs": [],
   "source": [
    "import requests\n",
    "url = \"https://www.google.com/search?ei=Z3KJXYefGIK0mAX-vp64CQ&yv=3&q=%E6%B5%A3%E7%86%8A&tbm=isch&vet=10ahUKEwjH7qivqOjkAhUCGqYKHX6fB5cQuT0ISigB.Z3KJXYefGIK0mAX-vp64CQ.i&ved=0ahUKEwjH7qivqOjkAhUCGqYKHX6fB5cQuT0ISigB&ijn=1&start=100&asearch=ichunk&async=_id:rg_s,_pms:s,_jsfs:Ffpdje,_fmt:pc\"\n",
    "h = {\n",
    "    \"accept-language\":\"zh-TW,zh;q=0.9,en-US;q=0.8,en;q=0.7\",\n",
    "    \"user-agent\":\"Mozilla/5.0 (Windows NT 10.0; Win64; x64) AppleWebKit/537.36 (KHTML, like Gecko) Chrome/76.0.3809.132 Safari/537.36\"\n",
    "}\n",
    "response = requests.get(url, headers=h)\n",
    "response.text"
   ]
  },
  {
   "cell_type": "code",
   "execution_count": 2,
   "metadata": {},
   "outputs": [
    {
     "name": "stdout",
     "output_type": "stream",
     "text": [
      "盒子: <div class=\"rg_meta notranslate\">{\"cb\":3,\"cl\":6,\"cr\":9,\"id\":\"KSqbzchLKgJRrM:\",\"isu\":\"34c.cc\",\"itg\":0,\"ity\":\"jpg\",\"oh\":479,\"ou\":\"https://a.34cimg.com/PetUpload/2018-11/c69d44615310368699e20182522eae40.jpg\",\"ow\":650,\"pt\":\"2018 北美浣熊寶寶黑白黃化可上手乖巧黏人全省面交浣熊,賣浣熊 ...\",\"rh\":\"34c.cc\",\"rid\":\"tzlM88XgWitlAM\",\"rmt\":0,\"rt\":0,\"ru\":\"https://34c.cc/P86969\",\"st\":\"寵寵微積\",\"th\":193,\"tu\":\"https://encrypted-tbn0.gstatic.com/images?q\\u003dtbn:ANd9GcTRI-OEsjNhOS19DgNKQfLwBCvvHHkMUXrK-0JUzmd4xGm3HO7Wnw\",\"tw\":262}</div>\n",
      "網址: https://a.34cimg.com/PetUpload/2018-11/c69d44615310368699e20182522eae40.jpg\n"
     ]
    }
   ],
   "source": [
    "from bs4 import BeautifulSoup\n",
    "import json\n",
    "html = BeautifulSoup(response.text)\n",
    "div = html.find(\"div\", class_=\"rg_meta\")\n",
    "print(\"盒子:\", div)\n",
    "print(\"網址:\", json.loads(div.text)[\"ou\"])"
   ]
  },
  {
   "cell_type": "code",
   "execution_count": 8,
   "metadata": {},
   "outputs": [
    {
     "name": "stdout",
     "output_type": "stream",
     "text": [
      "第幾頁: 1\n",
      "網址: https://www.google.com/search?ei=Z3KJXYefGIK0mAX-vp64CQ&yv=3&q=%E6%B5%A3%E7%86%8A&tbm=isch&vet=10ahUKEwjH7qivqOjkAhUCGqYKHX6fB5cQuT0ISigB.Z3KJXYefGIK0mAX-vp64CQ.i&ved=0ahUKEwjH7qivqOjkAhUCGqYKHX6fB5cQuT0ISigB&ijn=0&start=0&asearch=ichunk&async=_id:rg_s,_pms:s,_jsfs:Ffpdje,_fmt:pc\n",
      "這頁有幾張? 100\n",
      "第幾頁: 2\n",
      "網址: https://www.google.com/search?ei=Z3KJXYefGIK0mAX-vp64CQ&yv=3&q=%E6%B5%A3%E7%86%8A&tbm=isch&vet=10ahUKEwjH7qivqOjkAhUCGqYKHX6fB5cQuT0ISigB.Z3KJXYefGIK0mAX-vp64CQ.i&ved=0ahUKEwjH7qivqOjkAhUCGqYKHX6fB5cQuT0ISigB&ijn=1&start=100&asearch=ichunk&async=_id:rg_s,_pms:s,_jsfs:Ffpdje,_fmt:pc\n",
      "這頁有幾張? 100\n",
      "第幾頁: 3\n",
      "網址: https://www.google.com/search?ei=Z3KJXYefGIK0mAX-vp64CQ&yv=3&q=%E6%B5%A3%E7%86%8A&tbm=isch&vet=10ahUKEwjH7qivqOjkAhUCGqYKHX6fB5cQuT0ISigB.Z3KJXYefGIK0mAX-vp64CQ.i&ved=0ahUKEwjH7qivqOjkAhUCGqYKHX6fB5cQuT0ISigB&ijn=2&start=200&asearch=ichunk&async=_id:rg_s,_pms:s,_jsfs:Ffpdje,_fmt:pc\n",
      "這頁有幾張? 100\n",
      "第幾頁: 4\n",
      "網址: https://www.google.com/search?ei=Z3KJXYefGIK0mAX-vp64CQ&yv=3&q=%E6%B5%A3%E7%86%8A&tbm=isch&vet=10ahUKEwjH7qivqOjkAhUCGqYKHX6fB5cQuT0ISigB.Z3KJXYefGIK0mAX-vp64CQ.i&ved=0ahUKEwjH7qivqOjkAhUCGqYKHX6fB5cQuT0ISigB&ijn=3&start=300&asearch=ichunk&async=_id:rg_s,_pms:s,_jsfs:Ffpdje,_fmt:pc\n",
      "這頁有幾張? 100\n",
      "第幾頁: 5\n",
      "網址: https://www.google.com/search?ei=Z3KJXYefGIK0mAX-vp64CQ&yv=3&q=%E6%B5%A3%E7%86%8A&tbm=isch&vet=10ahUKEwjH7qivqOjkAhUCGqYKHX6fB5cQuT0ISigB.Z3KJXYefGIK0mAX-vp64CQ.i&ved=0ahUKEwjH7qivqOjkAhUCGqYKHX6fB5cQuT0ISigB&ijn=4&start=400&asearch=ichunk&async=_id:rg_s,_pms:s,_jsfs:Ffpdje,_fmt:pc\n",
      "這頁有幾張? 100\n",
      "第幾頁: 6\n",
      "網址: https://www.google.com/search?ei=Z3KJXYefGIK0mAX-vp64CQ&yv=3&q=%E6%B5%A3%E7%86%8A&tbm=isch&vet=10ahUKEwjH7qivqOjkAhUCGqYKHX6fB5cQuT0ISigB.Z3KJXYefGIK0mAX-vp64CQ.i&ved=0ahUKEwjH7qivqOjkAhUCGqYKHX6fB5cQuT0ISigB&ijn=5&start=500&asearch=ichunk&async=_id:rg_s,_pms:s,_jsfs:Ffpdje,_fmt:pc\n",
      "這頁有幾張? 100\n",
      "第幾頁: 7\n",
      "網址: https://www.google.com/search?ei=Z3KJXYefGIK0mAX-vp64CQ&yv=3&q=%E6%B5%A3%E7%86%8A&tbm=isch&vet=10ahUKEwjH7qivqOjkAhUCGqYKHX6fB5cQuT0ISigB.Z3KJXYefGIK0mAX-vp64CQ.i&ved=0ahUKEwjH7qivqOjkAhUCGqYKHX6fB5cQuT0ISigB&ijn=6&start=600&asearch=ichunk&async=_id:rg_s,_pms:s,_jsfs:Ffpdje,_fmt:pc\n",
      "這頁有幾張? 100\n",
      "第幾頁: 8\n",
      "網址: https://www.google.com/search?ei=Z3KJXYefGIK0mAX-vp64CQ&yv=3&q=%E6%B5%A3%E7%86%8A&tbm=isch&vet=10ahUKEwjH7qivqOjkAhUCGqYKHX6fB5cQuT0ISigB.Z3KJXYefGIK0mAX-vp64CQ.i&ved=0ahUKEwjH7qivqOjkAhUCGqYKHX6fB5cQuT0ISigB&ijn=7&start=700&asearch=ichunk&async=_id:rg_s,_pms:s,_jsfs:Ffpdje,_fmt:pc\n",
      "這頁有幾張? 87\n",
      "第幾頁: 9\n",
      "網址: https://www.google.com/search?ei=Z3KJXYefGIK0mAX-vp64CQ&yv=3&q=%E6%B5%A3%E7%86%8A&tbm=isch&vet=10ahUKEwjH7qivqOjkAhUCGqYKHX6fB5cQuT0ISigB.Z3KJXYefGIK0mAX-vp64CQ.i&ved=0ahUKEwjH7qivqOjkAhUCGqYKHX6fB5cQuT0ISigB&ijn=8&start=800&asearch=ichunk&async=_id:rg_s,_pms:s,_jsfs:Ffpdje,_fmt:pc\n",
      "應該是最後一頁了\n"
     ]
    }
   ],
   "source": [
    "import requests\n",
    "from bs4 import BeautifulSoup\n",
    "import json\n",
    "\n",
    "imgs_url = []\n",
    "page = 0\n",
    "while True:    \n",
    "    url = (\"https://www.google.com/search?ei=Z3KJXYefGIK0mAX-vp64CQ&yv=3&q=%E6%B5%A3%E7%86%8A&tbm=isch&vet=10ahUKEwjH7qivqOjkAhUCGqYKHX6fB5cQuT0ISigB.Z3KJXYefGIK0mAX-vp64CQ.i&ved=0ahUKEwjH7qivqOjkAhUCGqYKHX6fB5cQuT0ISigB&ijn=\"\n",
    "            + str(page) + \"&start=\"\n",
    "            + str(page * 100) +\"&asearch=ichunk&async=_id:rg_s,_pms:s,_jsfs:Ffpdje,_fmt:pc\")\n",
    "    print(\"第幾頁:\", page + 1)\n",
    "    print(\"網址:\", url)\n",
    "    h = {\n",
    "        \"accept-language\":\"zh-TW,zh;q=0.9,en-US;q=0.8,en;q=0.7\",\n",
    "        \"user-agent\":\"Mozilla/5.0 (Windows NT 10.0; Win64; x64) AppleWebKit/537.36 (KHTML, like Gecko) Chrome/76.0.3809.132 Safari/537.36\"\n",
    "    }\n",
    "    response = requests.get(url, headers=h)\n",
    "    \n",
    "    html = BeautifulSoup(response.text)\n",
    "    divs = html.find_all(\"div\", class_=\"rg_meta\")\n",
    "    \n",
    "    if len(divs) == 0:\n",
    "        print(\"應該是最後一頁了\")\n",
    "        break\n",
    "    \n",
    "    print(\"這頁有幾張?\", len(divs))\n",
    "    for d in divs:\n",
    "        img = json.loads(d.text)[\"ou\"]\n",
    "        imgs_url.append(img)\n",
    "    page = page + 1"
   ]
  },
  {
   "cell_type": "code",
   "execution_count": null,
   "metadata": {},
   "outputs": [],
   "source": [
    "import os\n",
    "import ssl\n",
    "ssl._create_default_https_context = ssl._create_unverified_context\n",
    "\n",
    "base = \"racoon\"\n",
    "if not os.path.exists(base):\n",
    "    os.makedirs(base)\n",
    "saved = [\"jpg\", \"jpeg\", \"png\"]\n",
    "for i, iurl in enumerate(imgs_url):\n",
    "    for f in saved:\n",
    "        if f.upper() in iurl or f in iurl:\n",
    "            try:\n",
    "                iresponse = requests.get(iurl, stream=True, verify=False)\n",
    "                fn = os.path.join(base, str(i) + \".\" + f)\n",
    "                with open(fn, \"wb\") as f:\n",
    "                    # .read: .raw是一個檔案, 使用read去讀取\n",
    "                    f.write(iresponse.raw.read())\n",
    "            except:\n",
    "                print(\"放棄:\", iurl)"
   ]
  }
 ],
 "metadata": {
  "kernelspec": {
   "display_name": "Python 3",
   "language": "python",
   "name": "python3"
  },
  "language_info": {
   "codemirror_mode": {
    "name": "ipython",
    "version": 3
   },
   "file_extension": ".py",
   "mimetype": "text/x-python",
   "name": "python",
   "nbconvert_exporter": "python",
   "pygments_lexer": "ipython3",
   "version": "3.6.5"
  }
 },
 "nbformat": 4,
 "nbformat_minor": 1
}
