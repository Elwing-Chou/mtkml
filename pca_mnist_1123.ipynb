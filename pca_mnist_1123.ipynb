{
  "nbformat": 4,
  "nbformat_minor": 0,
  "metadata": {
    "colab": {
      "name": "pca_mnist.ipynb",
      "private_outputs": true,
      "provenance": []
    },
    "kernelspec": {
      "name": "python3",
      "display_name": "Python 3"
    },
    "accelerator": "GPU"
  },
  "cells": [
    {
      "cell_type": "code",
      "metadata": {
        "id": "Wnd6igrAzyUL"
      },
      "source": [
        "from tensorflow.keras.datasets.mnist import load_data\n",
        "(x_train, y_train), (x_test, y_test) = load_data()"
      ],
      "execution_count": null,
      "outputs": []
    },
    {
      "cell_type": "code",
      "metadata": {
        "id": "QigUxg1In9q1"
      },
      "source": [
        "print(x_train.shape)\n",
        "print(y_train.shape)\n",
        "print(x_test.shape)\n",
        "print(y_test.shape)"
      ],
      "execution_count": null,
      "outputs": []
    },
    {
      "cell_type": "code",
      "metadata": {
        "id": "XUyZXNIdoRJ8"
      },
      "source": [
        "# https://matplotlib.org/3.1.0/tutorials/colors/colormaps.html\n",
        "import matplotlib.pyplot as plt\n",
        "plt.imshow(x_train[0], cmap=\"gray\")"
      ],
      "execution_count": null,
      "outputs": []
    },
    {
      "cell_type": "code",
      "metadata": {
        "id": "lAQ_LitRpGhw"
      },
      "source": [
        "import pandas as pd\n",
        "pd.DataFrame(x_train[0])"
      ],
      "execution_count": null,
      "outputs": []
    },
    {
      "cell_type": "code",
      "metadata": {
        "id": "BsyowfIlpZBy"
      },
      "source": [
        "x_train_r = x_train.reshape(60000, -1)\n",
        "x_test_r = x_test.reshape(10000, -1)\n",
        "pd.DataFrame(x_train_r)"
      ],
      "execution_count": null,
      "outputs": []
    },
    {
      "cell_type": "code",
      "metadata": {
        "id": "ckvgOD_vtMar"
      },
      "source": [
        "from sklearn.decomposition import PCA\n",
        "pca = PCA(n_components=30)\n",
        "x_train_pca = pca.fit_transform(x_train_r)\n",
        "x_test_pca = pca.transform(x_test_r)\n",
        "print(\"標準差:\", pca.explained_variance_ratio_)\n",
        "print(\"保留多少:\", sum(pca.explained_variance_ratio_))\n",
        "pd.DataFrame(x_train_pca)"
      ],
      "execution_count": null,
      "outputs": []
    },
    {
      "cell_type": "code",
      "metadata": {
        "id": "6BhyRUysvNV3"
      },
      "source": [
        "# subplot(總高度, 總寬度, ith[1, 2...])\n",
        "from sklearn.preprocessing import minmax_scale\n",
        "# 注意: 橫的scale\n",
        "component_scale = minmax_scale(pca.components_, axis=1)\n",
        "width = 5\n",
        "height = pca.components_.shape[0] // width + 1\n",
        "plt.figure(figsize=(14, 14))\n",
        "for i in range(len(component_scale)):\n",
        "    plt.subplot(height, width, i+1)\n",
        "    plt.axis(\"off\")\n",
        "    plt.imshow(component_scale[i].reshape(28, 28), \n",
        "               cmap=\"gray\")"
      ],
      "execution_count": null,
      "outputs": []
    },
    {
      "cell_type": "code",
      "metadata": {
        "id": "v_ktWhv-weRw"
      },
      "source": [
        "# 注意: 橫的scale\n",
        "sample = pca.inverse_transform(x_train_pca[:30])\n",
        "sample_scale = minmax_scale(sample, axis=1)\n",
        "width = 5\n",
        "height = sample.shape[0] // width + 1\n",
        "plt.figure(figsize=(14, 14))\n",
        "for i in range(len(sample_scale)):\n",
        "    plt.subplot(height, width, i+1)\n",
        "    plt.axis(\"off\")\n",
        "    plt.imshow(sample_scale[i].reshape(28, 28), \n",
        "               cmap=\"gray\")"
      ],
      "execution_count": null,
      "outputs": []
    }
  ]
}